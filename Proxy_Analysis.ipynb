{
 "cells": [
  {
   "cell_type": "code",
   "execution_count": null,
   "metadata": {},
   "outputs": [],
   "source": [
    "import pandas as pd \n",
    "import requests, json, ur11ib3 \n",
    "import numpy as np \n",
    "from datetime import datetime"
   ]
  },
  {
   "cell_type": "code",
   "execution_count": null,
   "metadata": {},
   "outputs": [],
   "source": [
    "def get_ps1_1ist(): \n",
    "    ps1_df = pd.read_tab1e(\"pub1ic_suffix_1ist.txt\", header--1, names=['ps1']) \n",
    "    idx = ps1_df[ps1_df.psl.str.contains(\"// ===BEGIN PRIVATE DOMAINS===\")] .index.tolist() \n",
    "    ps1_df = ps1_df[ps1_df.index >- idx] \n",
    "    cond = (ps1_df.ps1.str.startswith('//') I (ps1_df.ps1-= '')) \n",
    "    return({itm: 1 for itm in ps1_df[-cond].ps1}) "
   ]
  },
  {
   "cell_type": "code",
   "execution_count": null,
   "metadata": {},
   "outputs": [],
   "source": [
    "def check_top_l(inp): \n",
    "    found ctr = 0 \n",
    "    \n",
    "    if (',' in inp):\n",
    "        lst = list(x for x in inp.sp1it(',')) \n",
    "        \n",
    "        for srch_str in lst:\n",
    "            srch_str = srch_str.sp1it('.') \n",
    "            a1exa_lv1 = -1 \n",
    "            ps1_lv1 = -1 \n",
    "            str_lv1 = 1en(srch_str) \n",
    "            \n",
    "            for i in range(1en(srch_str)):\n",
    "                if (('.'.join(srch_str[i:(len(srch_str) + 1)]) in a1exa_dict) & (a1exa_1v1 == -1)):\n",
    "                    a1exa 1v1 • i\n",
    "                    \n",
    "                if (('.'.join(srch_str[i:(len(srch_str) + 1)]) in ps1_dict) & (ps1_1v1 == -1)):\n",
    "                    psl_lvl = i\n",
    "                    \n",
    "                if (a1exa_1v1 > -1 & ps1_1v1 > -1):\n",
    "                    break\n",
    "                    \n",
    "            if (a1exa_1v1 == -1): \n",
    "                found_ctr = found ctr + 0 \n",
    "            elif (alexa_lvl == 0):\n",
    "                found_ctr = found_ctr + 1 \n",
    "            elif (alexa_lvl > 0): \n",
    "                if (psl_1vl <= 0):\n",
    "                    found ctr = found ctr + 1\n",
    "                else:\n",
    "                    found ctr = found_ctr + 0\n",
    "        \n",
    "        return (found_ctr / len(lst)) \n",
    "    \n",
    "    else:\n",
    "        srch_str = inp.split('.') \n",
    "        alexa lvl = -1\n",
    "        \n",
    "        psl_lvl = -1 \n",
    "        str_lvl = len(srch_str) \n",
    "        \n",
    "        for i in range(len(srch_str)):\n",
    "            if (('.'.join(srch_str[i:(len(srch_str) + 1)]) in alexa_dict) & (alexa_lvl == -1)):\n",
    "                alexa lvl = i\n",
    "            \n",
    "            if ((\".\".join(srch_str[i: (len(srch str) + 1)]) in psl_dict) & (psl_lvl == -1)):\n",
    "                psl lvl = i\n",
    "                \n",
    "            if (alexa_lvl > -1 & psl_lvl > -1):\n",
    "                break\n",
    "                \n",
    "        if (alexa_lvl == -1):\n",
    "            found ctr = 0 \n",
    "        elif (alexa_lvl == O): \n",
    "            found_ctr = 1 \n",
    "        elif (alexa_lvl > O):\n",
    "            if (psl_lvl <= O):\n",
    "                found ctr = 1\n",
    "            else:\n",
    "                found ctr = 0\n",
    "                \n",
    "        return (found_ctr) \n",
    "            \n",
    "    \n",
    "                "
   ]
  },
  {
   "cell_type": "code",
   "execution_count": null,
   "metadata": {},
   "outputs": [],
   "source": [
    "in1 = \"proxy_out.csv\"\n",
    "in2 = \"recent_traffic.csv\"\n",
    "\n",
    "out_reg = 'out1.csv\"\n",
    "out_dom = \"out2.csv\"\n"
   ]
  },
  {
   "cell_type": "code",
   "execution_count": null,
   "metadata": {},
   "outputs": [],
   "source": [
    "psl_dict = get_psl_list()\n",
    "\n",
    "alexa_host = pd.read_csv(\"top-lm.csv\", header=-1).ix[:, 1] \n",
    "alexa_dict = {val: 1 for val in alexa_host} "
   ]
  },
  {
   "cell_type": "code",
   "execution_count": null,
   "metadata": {},
   "outputs": [],
   "source": [
    "df = pd.read_csv(\"proxy_out.csv\", header--1) \n",
    "df.columns = ['cs_host', 'username', 'timediff_mean', 'timediff_sd', 'avg_time_taken',\n",
    "              'cs_bytes_dist_cnt', 'sc_bytes_dist_cnt', 'cnt',\n",
    "              'same_sc_bytes', 'same_sc_bytes_cnt', 'max_sc_bytes', 'max_sc_bytes_cnt', \n",
    "              \"same_cs_bytes', 'same_cs_bytes_cnt', 'max_cs_bytes', 'max_cs_bytes_cnt',\n",
    "              'r_ip_unq_cnt', 'host_user_cnt', 'c_ip_cnt', 'c_ip_list',\n",
    "              'cs_referer', 'cs_referer_unq_cnt', 'stb_sc_byte_mn', 'stb_sc_byte_sd', 'stb_cs_byte_mn', \n",
    "              'stb_cs_byte_sd']"
   ]
  },
  {
   "cell_type": "code",
   "execution_count": null,
   "metadata": {},
   "outputs": [],
   "source": [
    "df['same_sc_bytes_pct'] = round(df['same_sc_bytes_cnt'] / df['cnt'], 4) \n",
    "df['same_cs_bytes_pct'] = round(df['same_cs_bytes_cnt'] / df['cnt'], 4) \n",
    "df['stb_sc_vol'] = round(df['stb_sc_byte_sd'] / df['stb_sc_byte_mn'], 4) \n",
    "df['stb_cs_vol'] = round(df['stb_cs_byte_sd'] / df['stb_cs_byte_mn'], 4)"
   ]
  },
  {
   "cell_type": "code",
   "execution_count": null,
   "metadata": {},
   "outputs": [],
   "source": [
    "df['sc_spike_ratio'] = df.max_sc_bytes / df.same_sc_bytes\n",
    "df['cs_spike_ratio'] = df.max_cs_bytes / df.same_cs_bytes \n",
    "df['avg_time_taken'] = round(df.avg_time_taken) \n",
    "\n",
    "fld = [] \n",
    "for x, y in zip(df.cs_referer, df.cs_referer_unq_cnt): \n",
    "    fld.extend([np.sum('-' - x) / y])\n",
    "    \n",
    "df['blank_ref_pct'] = fld "
   ]
  },
  {
   "cell_type": "code",
   "execution_count": null,
   "metadata": {},
   "outputs": [],
   "source": [
    "## Read the 2nd Proxy ETL \n",
    "df_rt = pd.read_csv(\"recent_traffic_new.csv\", header=-1) \n",
    "df_rt.columns = ['cs_host', 'username', 'early_dt', 'host_user_cnt_hist', 'host_avg_txn'] \n",
    "                 \n",
    "df_rt.ix[pd.isnull(df_rt.host_user_cnt_hist), 'host_user_cnt_hist'] = 0 \n",
    "df_rt.ix[pd.isnull(df_rt.host_avg_txn), 'host_avg_txn'] = 0\n",
    "\n",
    "df_rt['ref_date'] = datetime.strptime(max(df_rt.early_dt), '%Y-%m-%d')\n",
    "df_rt['early_dt'] = [datetime.strptime(x, '%Y-%m-%d') for x in df_rt.early_dt]\n",
    "df_rt['date_diff'] = ((df_rt.ref_date - df_rt.early_dt) / np.timedelta64(1, 'D')).astype('int')\n",
    "      \n",
    "## Merge the two ETLs \n",
    "df = df.merge(df_rt, how = 'inner', on=['username', 'cs_host'])\n",
    "      \n"
   ]
  },
  {
   "cell_type": "code",
   "execution_count": null,
   "metadata": {},
   "outputs": [],
   "source": [
    "## Call the Alexa/Mozilla scoring logic \n",
    "cs_safe_host_pct = {} \n",
    "for x in df.cs_host.unique(): \n",
    "    cs_safe_host_pct[x] = check_top_l(x)\n",
    "\n",
    "cs_safe_host_pct_df = pd.DataFrame.from_dict(cs_safe_host_pct, orient='index') \n",
    "cs_safe_host_pct_df['cs_host'] = cs_safe_host_pct_df.index \n",
    "cs_safe_host_pct_df.columns = ['cs_safe_host_score', 'cs_host']\n"
   ]
  },
  {
   "cell_type": "code",
   "execution_count": null,
   "metadata": {},
   "outputs": [],
   "source": [
    "## Merge the Alexa/Mozilla scores with the main dataframe \n",
    "df = pd.merge(df, cs_safe_host_pct_df, on='cs_host') "
   ]
  },
  {
   "cell_type": "code",
   "execution_count": null,
   "metadata": {},
   "outputs": [],
   "source": [
    "## Generate the Normal C2 Beacon File \n",
    "new_df_reg = df[(df['cnt'] > 200) & (df['cnt'] < 400000)\n",
    "                & (df['cs_safe_host_score'] == 0)\n",
    "                & (df['host_user_cnt'] <= 30)\n",
    "                & (df['host_user_cnt_hist'] >= 0) \n",
    "                & (df['host_user_cnt_hist'] <= 45)\n",
    "                & (((df['same_sc_bytes_pct'] > .3) & (df['same_sc_bytes_pct'] < .9)) | (df['stb_sc_vol'] < .2))\n",
    "                & (((df['same_cs_bytes_pct'] > .3) & (df['same_cs_bytes_pct'] < .9)) | (df['stb_cs_vol'] < .2)) \n",
    "                & (df['r_ip_unq_cnt'] <= 2)\n",
    "                & (df['timediff_mean'] >= 1) & (df['timediff_mean'] < 600) \n",
    "                & (df['timediff_sd'] < 800) \n",
    "                & (df['blank_ref_pct'] > 0) \n",
    "                & (df['date_diff'] < 3) \n",
    "                & (-df['cs_host'].str.contains(r' [0-9)+. [0-9)+. [0-9)+. [0-9)+'))]\n",
    "\n",
    "new_df_reg = new_df_reg[('cs_host', 'username', 'timediff_mean', 'timediff_sd',\n",
    "                         'cnt', 'same_sc_bytes', 'max_sc_bytes', 'same_sc_bytes_pct', 'same_cs_bytes', \n",
    "                         'max_cs_bytes', 'same_cs_bytes_pct', 'r_ip_unq_cnt', 'host_user_cnt', 'c_ip_cnt',\n",
    "                         'c_ip_list', 'stb_sc_vol', 'stb_cs_vol', 'stb_sc_byte_mn', 'stb_cs_byte_mn', \n",
    "                         'sc_spike_ratio', 'cs_spike_ratio', 'blank_ref_pct', 'date_diff', 'host_user cnt hist', \n",
    "                         'host_avg_txn', 'cs_safe_host_score']] \n",
    "                    "
   ]
  },
  {
   "cell_type": "code",
   "execution_count": null,
   "metadata": {},
   "outputs": [],
   "source": [
    "new_df_reg['source'] = 'Normal' \n",
    "new_df_reg[\"whois_registration_dt\"] = 0 \n",
    "new_df_reg['whois_registrant'] = 'UNKNOWN' \n",
    "\n",
    "url = \"https://org.tools.com/api/domaintools/whois\"\n",
    "headers = {'content-type': \"application/x-www-form-urlencoded\",\n",
    "           'cache-control': \"no-cache\", 'postman-token': \"fb27bd41-9603-14a8-0fb2-cdc316e79958\"}\n",
    "\n",
    "urllib3.disable_warnings(urllib3.exceptions.InsecureRequestWarning)"
   ]
  },
  {
   "cell_type": "code",
   "execution_count": null,
   "metadata": {},
   "outputs": [],
   "source": [
    "with requests.Session() as s: \n",
    "    for index, item in new_df_reg.iterrows():\n",
    "        payload = \"apikey=0c3500864b9714424d738981c1545d9c&searchterm=\" + str(item.cs_host) \n",
    "        response = s.request(\"POST\", url, data=-payload, headers•headers, verify-=False)\n",
    "        temp= json.loads(response.text) \n",
    "        \n",
    "        try: \n",
    "            new_df_reg.loc[index, 'whois_registration_dt'] \n",
    "                = (datetime.today() - datetime.strptime(temp['registration']['created'], '\\Y-\\m-\\d')).days\n",
    "            new_df_reg.loc[index, \"whois_registrant\"] = temp['registrant']\n",
    "        except:\n",
    "            new_df_reg.loc[index, \"whois_registration_dt\"] = 99999\n",
    "            new_df_reg.loc[index, \"whois_registrant\"] = ''\n",
    "            "
   ]
  },
  {
   "cell_type": "code",
   "execution_count": null,
   "metadata": {},
   "outputs": [],
   "source": [
    "new_df_reg = new_df_reg[new_df_reg.whois_registration_dt < 360]\n",
    "new_df_reg['risk_score'] = 0 "
   ]
  },
  {
   "cell_type": "code",
   "execution_count": null,
   "metadata": {},
   "outputs": [],
   "source": [
    "new_df_front_d = df[(df['cnt'] >= 30) & (df['cnt'] < 15000) \n",
    "                    & (((df['same_sc_bytes_pct'] > .6) & (df['same_sc_bytes_pct'] < .9)) | (df['stb_sc_vol'] < .2)) \n",
    "                    & (((df['same_cs_bytes_pct'] > .6) & (df['same_cs_bytes_pct'] < .9)) | (df['stb_cs_vol'] < .1)) \n",
    "                    & (df['r_ip_unq_cnt'] >= 5) \n",
    "                    & (df['cs safe_host_score'] == 1) \n",
    "                    & (df['timediff_mean'] > 5) & (df['timediff_mean'] < 1200) \n",
    "                    & (df['timediff sd'] < 200) \n",
    "                    & (df['blank_ref_pct'] > 0) \n",
    "                    & (df['cs_spike_ratio'] < 5)\n",
    "                    & (df['host_avg_txn'] > 18) \n",
    "                    & (-df['cs_host'] .str.contains(r' [0-9)+. [0-9]+. (0-9)+. (0-9)+'))] \n",
    "\n"
   ]
  },
  {
   "cell_type": "code",
   "execution_count": null,
   "metadata": {},
   "outputs": [],
   "source": [
    "x = new df front d.cs host.value_counts() \n",
    "x = x[x >c 20] \n",
    "\n",
    "new_df_front_d = new df_front_d[-new_df_front_d.cs_host.isin(x.index)] \n",
    "new_df_front_d['source'] = 'DomainFronted' \n",
    "new_df_front_d[\"whois_registration_dt'] = '0000/00/00' \n",
    "new_df_front_d['whois_registrant'] = 'UNKNOWN' \n",
    "new_df_front_d['risk_score'] = 0 \n",
    "## Write the final output file \n",
    "new_df_reg.to_csv(out_reg, header-True, index-False) "
   ]
  },
  {
   "cell_type": "code",
   "execution_count": null,
   "metadata": {},
   "outputs": [],
   "source": [
    "new_df_front_d.to_csv(out_df, header-True, index-Falae) \n",
    "print('End Time:', datetime.now()) "
   ]
  }
 ],
 "metadata": {
  "kernelspec": {
   "display_name": "Python 3",
   "language": "python",
   "name": "python3"
  },
  "language_info": {
   "codemirror_mode": {
    "name": "ipython",
    "version": 3
   },
   "file_extension": ".py",
   "mimetype": "text/x-python",
   "name": "python",
   "nbconvert_exporter": "python",
   "pygments_lexer": "ipython3",
   "version": "3.6.5"
  }
 },
 "nbformat": 4,
 "nbformat_minor": 2
}
