{
 "cells": [
  {
   "cell_type": "code",
   "execution_count": null,
   "metadata": {},
   "outputs": [],
   "source": [
    "import requests, urllib3\n",
    "import json\n",
    "import getpass"
   ]
  },
  {
   "cell_type": "code",
   "execution_count": null,
   "metadata": {},
   "outputs": [],
   "source": [
    "import pandas as pd\n",
    "import itertools\n",
    "pd.options.display.max_columns = 999\n",
    "pd.options.display.max_rows = 999\n",
    "import re\n",
    "import numpy as np\n",
    "import scipy.stats as stats\n",
    "import math\n",
    "#import pycurl\n",
    "import csv\n",
    "#from _Juture_ import unicode_Literals\n",
    "from operator import methodcaller"
   ]
  },
  {
   "cell_type": "code",
   "execution_count": null,
   "metadata": {},
   "outputs": [],
   "source": [
    "pd.set_option('display.max_rows', 500)\n",
    "pd.set_option('display.max_columns', 500)\n",
    "pd.set_option('display.width', 1000)"
   ]
  },
  {
   "cell_type": "code",
   "execution_count": null,
   "metadata": {},
   "outputs": [],
   "source": [
    "#usr : getpass.getuser()\n",
    "p = getpass.getpass()"
   ]
  },
  {
   "cell_type": "code",
   "execution_count": null,
   "metadata": {},
   "outputs": [],
   "source": [
    "s_td = requests.Session()\n",
    "s_td.trust_env = False"
   ]
  },
  {
   "cell_type": "code",
   "execution_count": null,
   "metadata": {},
   "outputs": [],
   "source": [
    "url_auth='https://api.threatstream.com/api/vl/pdns/domain/www.cm.com/' \\\n",
    "            '?username=dipanjan.paul@org.com&api_' \\\n",
    "            'key=13ea4b5e5419e3198c30765af05f3d1965f34eab&limit=30'\n",
    "\n",
    "response = s_td.request(\"GET\", url_auth, verify=False,\n",
    "                        proxies = {'https': 'http ://' + usr + ':' + p + '@webproxy.org.com:8080'})\n",
    "response.status_code"
   ]
  },
  {
   "cell_type": "code",
   "execution_count": null,
   "metadata": {},
   "outputs": [],
   "source": [
    "json.loads(response.text)"
   ]
  },
  {
   "cell_type": "code",
   "execution_count": null,
   "metadata": {},
   "outputs": [],
   "source": [
    "id = '1'\n",
    "\n",
    "url_auth = 'https://api.threatstream.com/api/vl/tipreport/{0}/' \\\n",
    "            '?username=dipanjan.paul@org.com&api_' \\\n",
    "            'key=13ea4b5e5419e3198c30765af05f3d1965f34eab&limit=30'.format(id)\n",
    "\n",
    "response = s_td.request(\"GET\", url_auth, verify=False,\n",
    "                        proxies = {'https': 'http ://' + usr + ':' + p + '@webproxy.org.com:8080'})\n",
    "\n",
    "response.status_code"
   ]
  },
  {
   "cell_type": "code",
   "execution_count": null,
   "metadata": {},
   "outputs": [],
   "source": [
    "result = json.loads(response.text)"
   ]
  },
  {
   "cell_type": "code",
   "execution_count": null,
   "metadata": {},
   "outputs": [],
   "source": [
    "url_auth = 'https://api.threatstream.com/api/v2/intelligence/' \\\n",
    "            '?username=dipanjan.paul@org.com' \\\n",
    "            '&api_key=13ea4b5e5419e3198c30765af05f3d1965f34eab' \\\n",
    "            '&date_last_gte=2018-12-01T00:00:00&status=active&limit=5'\n",
    "\n",
    "response = s_td.request(\"GET\", url_auth, verify=False, \n",
    "                        proxies = {'https' :'https://' + usr + ' • ' + p + '@webproxy.org.com:8080'})\n",
    "response.status_code"
   ]
  },
  {
   "cell_type": "code",
   "execution_count": null,
   "metadata": {},
   "outputs": [],
   "source": [
    "result = json.loads(response.text)\n",
    "result['meta']['total_count']"
   ]
  },
  {
   "cell_type": "code",
   "execution_count": null,
   "metadata": {},
   "outputs": [],
   "source": [
    "df1 = pd.DataFrame(result['objects'])"
   ]
  },
  {
   "cell_type": "code",
   "execution_count": null,
   "metadata": {},
   "outputs": [],
   "source": [
    "dt= '2018-12-20T00:00:00'\n",
    "url_auth = 'https://api.threatstream.com/api/v2/intelligence/' \\\n",
    "        '?username=dipanjan.paul@org.com' \\\n",
    "        '&api_key=13ea4b5e5419e3198c30765af05f3d1965f34eab' \\\n",
    "        '&date_last_gte=' + dt + '&status=active'\n",
    "\n",
    "response = s_td.request(\"GET\", url_auth, verify=False, \n",
    "                        proxies = {'https': 'https://' + usr + ' · ' + p + '@webproxy.org.com:8080'})\n",
    "\n",
    "result = json.loads(response.text)\n",
    "cnt = result['meta']['total_count']\n",
    "cnt"
   ]
  },
  {
   "cell_type": "code",
   "execution_count": null,
   "metadata": {},
   "outputs": [],
   "source": [
    "if ((cnt % 1000) == 0):\n",
    "    l_len = math.floor(cnt/1000)\n",
    "else:\n",
    "    l_len = math.floor(cnt/1000) + 1\n",
    "    \n",
    "l_len"
   ]
  },
  {
   "cell_type": "code",
   "execution_count": null,
   "metadata": {},
   "outputs": [],
   "source": [
    "import urllib3\n",
    "urllib3.disable_warnings(urllib3.exceptions.InsecureRequestWarning)\n",
    "\n",
    "_id= 0\n",
    "eod = \"N\"\n",
    "\n",
    "if ((cnt % 1000) == 0):\n",
    "    l_len = math.floor(cnt/1000)\n",
    "else:\n",
    "    l_len = math.floor(cnt/1000) + 1\n",
    "\n",
    "l = []*l_len\n",
    "i = 1\n",
    "\n",
    "while (i <= l_len):\n",
    "    url_auth = 'https: //api. threatstream. c·om/api/v2/intelligence/' \\\n",
    "        '?username=dipanjan.paul@org.com' \\\n",
    "        '&api_key=13ea4b5e5419e3198c30765af05f3dl965f34eab' \\\n",
    "        '&date_last_gte=' + dt + '&status=active&update_id_gt=' + str_id) + '&order_by=update_id'\n",
    "    \n",
    "    response = s_td.request(\"GET\", url_auth, verify=False, \n",
    "                            proxies= {'https': 'https://' + usr + \":\" + '@webproxy.org.com:8080'})\n",
    "    \n",
    "    if (response.text is not None):\n",
    "        try:\n",
    "            result = json.loads(response.text)\n",
    "            df = pd.DataFrame(result['objects'])\n",
    "            1. append(df)\n",
    "            _id = np.max(df.update_id)\n",
    "        except JSONDecodeError:\n",
    "            print (\"Decode Error\")\n",
    "            \n",
    "        i = i+l\n",
    "        \n",
    "final_df_c = pd.concat(l).reset_index(drop=True)\n",
    "final_df_c.head()"
   ]
  }
 ],
 "metadata": {
  "kernelspec": {
   "display_name": "Python 3",
   "language": "python",
   "name": "python3"
  },
  "language_info": {
   "codemirror_mode": {
    "name": "ipython",
    "version": 3
   },
   "file_extension": ".py",
   "mimetype": "text/x-python",
   "name": "python",
   "nbconvert_exporter": "python",
   "pygments_lexer": "ipython3",
   "version": "3.6.5"
  }
 },
 "nbformat": 4,
 "nbformat_minor": 2
}
