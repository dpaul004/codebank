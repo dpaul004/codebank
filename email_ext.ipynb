{
 "cells": [
  {
   "cell_type": "code",
   "execution_count": null,
   "metadata": {},
   "outputs": [],
   "source": [
    "import win32com.client\n",
    "import pandas as pd\n",
    "import re\n",
    "import json"
   ]
  },
  {
   "cell_type": "code",
   "execution_count": null,
   "metadata": {},
   "outputs": [],
   "source": [
    "outlook = win32com.client.Dispatch(\"Outlook.Application\").GetNamespace(\"MAPI\")"
   ]
  },
  {
   "cell_type": "code",
   "execution_count": null,
   "metadata": {},
   "outputs": [],
   "source": [
    "inbox = outlook.GetDefaultFolder(6) # \"6 refers to the index of a folderIn c\n",
    "print(outlook.folders[l])"
   ]
  },
  {
   "cell_type": "code",
   "execution_count": null,
   "metadata": {},
   "outputs": [],
   "source": [
    "folder = outlook.folders[2].Folders\n",
    "print(folder.count)\n",
    "\n",
    "for i in range(folder.count):\n",
    "    print(folder[i].Name)\n",
    "    f_name = folder[i].Name\n",
    "    \n",
    "    if (f_name == 'Deleted Items'):\n",
    "        messages = folder[i].Items\n",
    "        \n",
    "print(messages.count)"
   ]
  },
  {
   "cell_type": "code",
   "execution_count": null,
   "metadata": {},
   "outputs": [],
   "source": [
    "folder.count"
   ]
  },
  {
   "cell_type": "code",
   "execution_count": null,
   "metadata": {},
   "outputs": [],
   "source": [
    "mail= pd.DataFrame()\n",
    "i = 0\n",
    "for message in messages:\n",
    "    try:\n",
    "        email.loc[i, 'Sender']= message.Sender\n",
    "        email.loc[i, 'To'] = message.To\n",
    "        email.loc[i, 'SenderAddr'] = message.Sender.Address\n",
    "        email.loc[i, 'Subject']= message.Subject\n",
    "        msg = message.body.replace('\\r', ' ')\n",
    "        msg= msg.replace('\\n', ' ')\n",
    "        email.loc[i, 'body']= msg\n",
    "        i = i + 1\n",
    "    except:\n",
    "        print(' Failed')\n",
    "        \n",
    "with open('test.txt', 'w') as out:\n",
    "    for i in range(email.shape[0]}:\n",
    "        out.writelines(email.iloc[i].to_json(path_or_buf=None) + \"\\n\")\n",
    "email.shape"
   ]
  },
  {
   "cell_type": "code",
   "execution_count": null,
   "metadata": {},
   "outputs": [],
   "source": [
    "mail.shape"
   ]
  }
 ],
 "metadata": {
  "kernelspec": {
   "display_name": "Python 3",
   "language": "python",
   "name": "python3"
  },
  "language_info": {
   "codemirror_mode": {
    "name": "ipython",
    "version": 3
   },
   "file_extension": ".py",
   "mimetype": "text/x-python",
   "name": "python",
   "nbconvert_exporter": "python",
   "pygments_lexer": "ipython3",
   "version": "3.6.5"
  }
 },
 "nbformat": 4,
 "nbformat_minor": 2
}
